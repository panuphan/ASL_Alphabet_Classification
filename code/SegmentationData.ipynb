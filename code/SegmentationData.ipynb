{
 "cells": [
  {
   "cell_type": "code",
   "execution_count": 1,
   "metadata": {},
   "outputs": [
    {
     "name": "stdout",
     "output_type": "stream",
     "text": [
      "Requirement already satisfied: imutils in c:\\users\\asus\\.conda\\envs\\tensorflow_env\\lib\\site-packages (0.5.3)\n",
      "Note: you may need to restart the kernel to use updated packages.\n"
     ]
    }
   ],
   "source": [
    "pip install imutils"
   ]
  },
  {
   "cell_type": "code",
   "execution_count": 9,
   "metadata": {},
   "outputs": [],
   "source": [
    "#from pyimagesearch import imutils\n",
    "import numpy as np\n",
    "import argparse\n",
    "import cv2\n",
    "import matplotlib.pyplot as plt\n",
    "import imutils\n",
    "from PIL import Image  \n",
    "import PIL  \n",
    "import pathlib\n",
    "import tempfile\n",
    "import itertools as IT\n",
    "import os"
   ]
  },
  {
   "cell_type": "code",
   "execution_count": 11,
   "metadata": {},
   "outputs": [],
   "source": [
    "def img_processing(path):\n",
    "    \n",
    "    # define the upper and lower boundaries of the HSV pixel\n",
    "    # intensities to be considered 'skin'\n",
    "    lower = np.array([0, 48, 80], dtype = \"uint8\")\n",
    "    upper = np.array([20, 255, 255], dtype = \"uint8\")\n",
    "    \n",
    "    # read image from path file\n",
    "    img = cv2.imread(path)\n",
    "    \n",
    "    # resize the frame \n",
    "    frame = imutils.resize(img, width = 400)\n",
    "    \n",
    "    # convert it to the HSV color space\n",
    "    converted = cv2.cvtColor(frame, cv2.COLOR_BGR2HSV)\n",
    "    \n",
    "    #  determine the HSV pixel intensities that fall into\n",
    "    #  the speicifed upper and lower boundaries\n",
    "    skinMask = cv2.inRange(converted, lower, upper)\n",
    "    \n",
    "    # blur the mask to help remove noise, then apply the\n",
    "    # mask to the frame\n",
    "    skinMask = cv2.GaussianBlur(skinMask, (3, 3), 0)\n",
    "    skin = cv2.bitwise_and(frame, frame, mask = skinMask)\n",
    "    \n",
    "    return skin"
   ]
  },
  {
   "cell_type": "code",
   "execution_count": 10,
   "metadata": {},
   "outputs": [],
   "source": [
    "def uniquify(path, sep = ''):\n",
    "    def name_sequence():\n",
    "        count = IT.count()\n",
    "        yield '{s}{n:d}'.format(s = sep, n = 1)\n",
    "        while True:\n",
    "            yield '{s}{n:d}'.format(s = sep, n = next(count)+2)\n",
    "            \n",
    "            \n",
    "    orig = tempfile._name_sequence \n",
    "    with tempfile._once_lock:\n",
    "        tempfile._name_sequence = name_sequence()\n",
    "        path = os.path.normpath(path)\n",
    "        dirname, basename = os.path.split(path)\n",
    "        filename, ext = os.path.splitext(basename)\n",
    "        fd, filename = tempfile.mkstemp(dir = dirname, prefix = filename, suffix = ext)\n",
    "        tempfile._name_sequence = orig\n",
    "    return filename"
   ]
  },
  {
   "cell_type": "code",
   "execution_count": 4,
   "metadata": {},
   "outputs": [],
   "source": [
    "import os\n",
    "\n",
    "path = 'c:\\\\Users\\\\Asus\\\\Untitled Folder\\\\Dataset'\n",
    "\n",
    "folders = []\n",
    "\n",
    "# r=root, d=directories, f = files\n",
    "for r, d, f in os.walk(path):\n",
    "    for folder in d:\n",
    "        folders.append(os.path.join(r, folder))\n"
   ]
  },
  {
   "cell_type": "code",
   "execution_count": 5,
   "metadata": {},
   "outputs": [],
   "source": [
    "files = []\n",
    "for f in folders:\n",
    "    for r, d, f in os.walk(path):\n",
    "        for file in f:\n",
    "            if '.jpg' in file:\n",
    "                files.append(os.path.join(r, file))"
   ]
  },
  {
   "cell_type": "code",
   "execution_count": 8,
   "metadata": {},
   "outputs": [],
   "source": [
    "pathlib.Path('./NewData/train').mkdir(parents=True, exist_ok=True) \n",
    "pathlib.Path('./NewData/test').mkdir(parents=True, exist_ok=True)\n",
    "\n",
    "train_path = \"c:\\\\Users\\\\Asus\\\\Untitled Folder\\\\NewData\\\\train\"\n",
    "test_path = \"c:\\\\Users\\\\Asus\\\\Untitled Folder\\\\NewData\\\\test\""
   ]
  },
  {
   "cell_type": "code",
   "execution_count": null,
   "metadata": {},
   "outputs": [],
   "source": [
    "num_train = 1\n",
    "num_test = 1\n",
    "for f in files:\n",
    "    img_name = os.path.splitext(os.path.basename(f)) #('G8', '.jpg')\n",
    "    \n",
    "    im = Image.fromarray(cv2.cvtColor(img_processing(f), cv2.COLOR_BGR2RGB))\n",
    "    #print(img_name[0][1])\n",
    "    asl_path = img_name[0][0]\n",
    "    if(img_name[0][1] == '9'):\n",
    "        \n",
    "        pathlib.Path('./NewData/test/'+asl_path).mkdir(parents=True, exist_ok=True) \n",
    "        new_im_name = img_name[0][0]+img_name[1]\n",
    "        im.save(uniquify(test_path+\"\\\\\"+asl_path+\"\\\\\"+new_im_name))\n",
    "        num_test = num_test + 1\n",
    "       \n",
    "        \n",
    "    else:\n",
    "        pathlib.Path('./NewData/train/'+asl_path).mkdir(parents=True, exist_ok=True) \n",
    "        new_im_name = img_name[0][0]+img_name[1]\n",
    "        im.save(uniquify(train_path+\"\\\\\"+asl_path+\"\\\\\"+new_im_name))\n",
    "        num_train = num_train + 1\n",
    "        "
   ]
  },
  {
   "cell_type": "code",
   "execution_count": null,
   "metadata": {},
   "outputs": [],
   "source": []
  },
  {
   "cell_type": "code",
   "execution_count": null,
   "metadata": {},
   "outputs": [],
   "source": []
  }
 ],
 "metadata": {
  "kernelspec": {
   "display_name": "Python 3",
   "language": "python",
   "name": "python3"
  },
  "language_info": {
   "codemirror_mode": {
    "name": "ipython",
    "version": 3
   },
   "file_extension": ".py",
   "mimetype": "text/x-python",
   "name": "python",
   "nbconvert_exporter": "python",
   "pygments_lexer": "ipython3",
   "version": "3.6.9"
  }
 },
 "nbformat": 4,
 "nbformat_minor": 2
}
